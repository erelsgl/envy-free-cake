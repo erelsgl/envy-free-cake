{
 "cells": [
  {
   "cell_type": "code",
   "execution_count": 1,
   "metadata": {
    "collapsed": true
   },
   "outputs": [],
   "source": [
    "import plotly \n",
    "plotly.tools.set_credentials_file(username='kenanbit', api_key='Uar1gefPngEfn6dibxDo')"
   ]
  },
  {
   "cell_type": "code",
   "execution_count": 2,
   "metadata": {
    "collapsed": true
   },
   "outputs": [],
   "source": [
    "def load_data(filename):\n",
    "    data=[]\n",
    "    with open(filename, 'r') as f:\n",
    "        for line in f.readlines():\n",
    "            line = line.strip()\n",
    "            if len(line) > 0 and not line[0] == '#':\n",
    "                line_data = line.split(' | ')\n",
    "                line_data[0] = len(line_data[0].strip(' ;').split(';'))\n",
    "                line_data[1] = int(line_data[1])\n",
    "                line_data[2] = int(line_data[2])\n",
    "                data.append(line_data)\n",
    "    return data"
   ]
  },
  {
   "cell_type": "code",
   "execution_count": 26,
   "metadata": {
    "collapsed": true
   },
   "outputs": [],
   "source": [
    "import plotly.plotly as py\n",
    "import plotly.graph_objs as go\n",
    "\n",
    "import numpy as np\n",
    "\n",
    "raw_data = load_data('data.out')\n",
    "data ={}\n",
    "for i in range(4,12):\n",
    "    filtered_data = filter(lambda x: x[0]==i, raw_data)\n",
    "    data[i] = np.array([d[1]+d[2] for d in filtered_data])"
   ]
  },
  {
   "cell_type": "code",
   "execution_count": 57,
   "metadata": {},
   "outputs": [
    {
     "data": {
      "text/html": [
       "<iframe id=\"igraph\" scrolling=\"no\" style=\"border:none;\" seamless=\"seamless\" src=\"https://plot.ly/~kenanbit/2.embed\" height=\"525px\" width=\"100%\"></iframe>"
      ],
      "text/plain": [
       "<plotly.tools.PlotlyDisplay object>"
      ]
     },
     "execution_count": 57,
     "metadata": {},
     "output_type": "execute_result"
    }
   ],
   "source": [
    "traces = []\n",
    "\n",
    "for k in data:\n",
    "    traces.append( go.Histogram(\n",
    "        x=data[k],\n",
    "        opacity=0.75,\n",
    "        name=str(k)+' Agents',\n",
    "        histnorm='probability',\n",
    "    ))\n",
    "\n",
    "layout = go.Layout(\n",
    "    barmode='overlay', \n",
    "    xaxis = dict(type= 'log'), \n",
    "    yaxis = dict(type= 'log'),\n",
    "    title='Number of queries in Core for N agents',\n",
    ")\n",
    "fig = go.Figure(data=traces, layout=layout)\n",
    "py.iplot(fig, filename='overlaid histogram')"
   ]
  },
  {
   "cell_type": "code",
   "execution_count": 49,
   "metadata": {},
   "outputs": [
    {
     "data": {
      "text/html": [
       "<iframe id=\"igraph\" scrolling=\"no\" style=\"border:none;\" seamless=\"seamless\" src=\"https://plot.ly/~kenanbit/93.embed\" height=\"650px\" width=\"800px\"></iframe>"
      ],
      "text/plain": [
       "<plotly.tools.PlotlyDisplay object>"
      ]
     },
     "execution_count": 49,
     "metadata": {},
     "output_type": "execute_result"
    }
   ],
   "source": [
    "import plotly.plotly as py\n",
    "import plotly.graph_objs as go\n",
    "\n",
    "import numpy as np\n",
    "\n",
    "traces = []\n",
    "\n",
    "for k in data:\n",
    "    traces.append( go.Box(\n",
    "        y=data[k],\n",
    "        name=str(k)+' Agents',\n",
    "    ))\n",
    "\n",
    "\n",
    "labels = list(range(10,90,10)) + list(range(100,900,100)) + list(range(1000,9000,1000)) + list(range(10000,90000,10000))\n",
    "layout = go.Layout(\n",
    "    title='Number of queries in Core for N agents',\n",
    "    yaxis=dict(\n",
    "        type='log',\n",
    "        autorange=True,\n",
    "        ticktext=labels,\n",
    "        tickvals=labels,\n",
    "        tickfont=dict(\n",
    "            family='Courier New, monospace',\n",
    "            size=9.5,\n",
    "            color='#000000'\n",
    "        )\n",
    "    ),\n",
    "    autosize=False,\n",
    "    width=800,\n",
    "    height=650,\n",
    "    showlegend=False,\n",
    "    \n",
    ")\n",
    "\n",
    "fig = go.Figure(data=traces, layout=layout)\n",
    "py.iplot(fig, layout=layout)"
   ]
  },
  {
   "cell_type": "code",
   "execution_count": 1,
   "metadata": {
    "collapsed": true
   },
   "outputs": [],
   "source": [
    "def load_envy_free_data(filename):\n",
    "    data=[]\n",
    "    with open(filename, 'r') as f:\n",
    "        for line in f.readlines():\n",
    "            line = line.strip()\n",
    "            if len(line) > 0 and not line[0] == '#':\n",
    "                line_data = line.split(' | ')\n",
    "                line_data[0] = len(line_data[0].strip(' ;').split(';'))\n",
    "                line_data[1] = int(line_data[1])\n",
    "                line_data[2] = int(line_data[2])\n",
    "                line_data[3] = int(line_data[3])\n",
    "                data.append(line_data)\n",
    "    return data"
   ]
  },
  {
   "cell_type": "code",
   "execution_count": 2,
   "metadata": {
    "collapsed": true
   },
   "outputs": [],
   "source": [
    "import plotly.plotly as py\n",
    "import plotly.graph_objs as go\n",
    "\n",
    "import numpy as np\n",
    "sample_sets = [load_envy_free_data('data_envy_free_core.out'), load_envy_free_data('data_envy_free_waste_makes_haste.out')]\n",
    "#raw_data_envy_free_core = load_data('data_envy_free_core.out')\n",
    "#raw_data_envy_free_waste = load_data('data_envy_free_waste_makes_haste.out')\n",
    "data_pair = [{},{}]\n",
    "for w,s in enumerate(sample_sets):\n",
    "    for i in range(3,11):\n",
    "        filtered_data = filter(lambda x: x[0]==i, s)\n",
    "        #print(list(filtered_data))\n",
    "        data_pair[w][i] = np.array([d[-2]+d[-1] for d in filtered_data])"
   ]
  },
  {
   "cell_type": "code",
   "execution_count": 5,
   "metadata": {},
   "outputs": [
    {
     "data": {
      "text/html": [
       "<iframe id=\"igraph\" scrolling=\"no\" style=\"border:none;\" seamless=\"seamless\" src=\"https://plot.ly/~kenanbit/164.embed\" height=\"600px\" width=\"1100px\"></iframe>"
      ],
      "text/plain": [
       "<plotly.tools.PlotlyDisplay object>"
      ]
     },
     "execution_count": 5,
     "metadata": {},
     "output_type": "execute_result"
    }
   ],
   "source": [
    "import plotly.plotly as py\n",
    "import plotly.graph_objs as go\n",
    "\n",
    "import numpy as np\n",
    "\n",
    "traces = []\n",
    "x = ['Core 1', 'Core 2', 'Core 3', 'Core 4', 'Core 5', 'Core 6', 'Core 7', 'Core 8', 'Core 9', 'Core 10',\n",
    "     'Waste 1', 'Waste 2', 'Waste 3', 'Waste 4', 'Waste 5', 'Waste 6', 'Waste 7', 'Waste 8', 'Waste 9', 'Waste 10']\n",
    "\n",
    "color = '#3D9970'\n",
    "for data in data_pair:\n",
    "    for k in range(3,8):\n",
    "        traces.append( go.Box(\n",
    "            y=data[k],\n",
    "            name=str(k)+' Agents',\n",
    "            marker={'color':color}\n",
    "        ))\n",
    "    color = '#AA4466'\n",
    "\n",
    "\n",
    "labels = list(range(10,90,10)) + list(range(100,900,100)) + list(range(1000,9000,1000)) + list(range(10000,90000,10000))\n",
    "layout = go.Layout(\n",
    "    title='Number of queries in Dubious allocations using Core and WMH for N agents',\n",
    "    yaxis=dict(\n",
    "        type='log',\n",
    "        autorange=True,\n",
    "        ticktext=labels,\n",
    "        tickvals=labels,\n",
    "        tickfont=dict(\n",
    "            family='Courier New, monospace',\n",
    "            size=9.5,\n",
    "            color='#000000'\n",
    "        )\n",
    "    ),\n",
    "    autosize=False,\n",
    "    width=1100,\n",
    "    height=600,\n",
    "    showlegend=False,\n",
    "    boxmode='group',\n",
    "    \n",
    ")\n",
    "\n",
    "fig = go.Figure(data=traces, layout=layout)\n",
    "py.iplot(fig, layout=layout)"
   ]
  },
  {
   "cell_type": "code",
   "execution_count": null,
   "metadata": {
    "collapsed": true
   },
   "outputs": [],
   "source": []
  }
 ],
 "metadata": {
  "kernelspec": {
   "display_name": "Python 3",
   "language": "python",
   "name": "python3"
  },
  "language_info": {
   "codemirror_mode": {
    "name": "ipython",
    "version": 3
   },
   "file_extension": ".py",
   "mimetype": "text/x-python",
   "name": "python",
   "nbconvert_exporter": "python",
   "pygments_lexer": "ipython3",
   "version": "3.6.1"
  }
 },
 "nbformat": 4,
 "nbformat_minor": 2
}
