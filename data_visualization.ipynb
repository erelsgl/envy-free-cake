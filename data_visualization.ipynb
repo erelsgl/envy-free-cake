{
 "cells": [
  {
   "cell_type": "code",
   "execution_count": 1,
   "metadata": {
    "collapsed": true
   },
   "outputs": [],
   "source": [
    "import plotly \n",
    "plotly.tools.set_credentials_file(username='kenanbit', api_key='Uar1gefPngEfn6dibxDo')"
   ]
  },
  {
   "cell_type": "code",
   "execution_count": 2,
   "metadata": {
    "collapsed": true
   },
   "outputs": [],
   "source": [
    "def load_data(filename):\n",
    "    data=[]\n",
    "    with open(filename, 'r') as f:\n",
    "        for line in f.readlines():\n",
    "            line = line.strip()\n",
    "            if len(line) > 0 and not line[0] == '#':\n",
    "                line_data = line.split(' | ')\n",
    "                line_data[0] = len(line_data[0].strip(' ;').split(';'))\n",
    "                line_data[1] = int(line_data[1])\n",
    "                line_data[2] = int(line_data[2])\n",
    "                data.append(line_data)\n",
    "    return data"
   ]
  },
  {
   "cell_type": "code",
   "execution_count": 26,
   "metadata": {
    "collapsed": true
   },
   "outputs": [],
   "source": [
    "import plotly.plotly as py\n",
    "import plotly.graph_objs as go\n",
    "\n",
    "import numpy as np\n",
    "\n",
    "raw_data = load_data('data.out')\n",
    "data ={}\n",
    "for i in range(4,12):\n",
    "    filtered_data = filter(lambda x: x[0]==i, raw_data)\n",
    "    data[i] = np.array([d[1]+d[2] for d in filtered_data])"
   ]
  },
  {
   "cell_type": "code",
   "execution_count": 57,
   "metadata": {},
   "outputs": [
    {
     "data": {
      "text/html": [
       "<iframe id=\"igraph\" scrolling=\"no\" style=\"border:none;\" seamless=\"seamless\" src=\"https://plot.ly/~kenanbit/2.embed\" height=\"525px\" width=\"100%\"></iframe>"
      ],
      "text/plain": [
       "<plotly.tools.PlotlyDisplay object>"
      ]
     },
     "execution_count": 57,
     "metadata": {},
     "output_type": "execute_result"
    }
   ],
   "source": [
    "traces = []\n",
    "\n",
    "for k in data:\n",
    "    traces.append( go.Histogram(\n",
    "        x=data[k],\n",
    "        opacity=0.75,\n",
    "        name=str(k)+' Agents',\n",
    "        histnorm='probability',\n",
    "    ))\n",
    "\n",
    "layout = go.Layout(\n",
    "    barmode='overlay', \n",
    "    xaxis = dict(type= 'log'), \n",
    "    yaxis = dict(type= 'log'),\n",
    "    title='Number of queries in Core for N agents',\n",
    ")\n",
    "fig = go.Figure(data=traces, layout=layout)\n",
    "py.iplot(fig, filename='overlaid histogram')"
   ]
  },
  {
   "cell_type": "code",
   "execution_count": 49,
   "metadata": {},
   "outputs": [
    {
     "data": {
      "text/html": [
       "<iframe id=\"igraph\" scrolling=\"no\" style=\"border:none;\" seamless=\"seamless\" src=\"https://plot.ly/~kenanbit/93.embed\" height=\"650px\" width=\"800px\"></iframe>"
      ],
      "text/plain": [
       "<plotly.tools.PlotlyDisplay object>"
      ]
     },
     "execution_count": 49,
     "metadata": {},
     "output_type": "execute_result"
    }
   ],
   "source": [
    "import plotly.plotly as py\n",
    "import plotly.graph_objs as go\n",
    "\n",
    "import numpy as np\n",
    "\n",
    "traces = []\n",
    "\n",
    "for k in data:\n",
    "    traces.append( go.Box(\n",
    "        y=data[k],\n",
    "        name=str(k)+' Agents',\n",
    "    ))\n",
    "\n",
    "\n",
    "labels = list(range(10,90,10)) + list(range(100,900,100)) + list(range(1000,9000,1000)) + list(range(10000,90000,10000))\n",
    "layout = go.Layout(\n",
    "    title='Number of queries in Core for N agents',\n",
    "    yaxis=dict(\n",
    "        type='log',\n",
    "        autorange=True,\n",
    "        ticktext=labels,\n",
    "        tickvals=labels,\n",
    "        tickfont=dict(\n",
    "            family='Courier New, monospace',\n",
    "            size=9.5,\n",
    "            color='#000000'\n",
    "        )\n",
    "    ),\n",
    "    autosize=False,\n",
    "    width=800,\n",
    "    height=650,\n",
    "    showlegend=False,\n",
    "    \n",
    ")\n",
    "\n",
    "fig = go.Figure(data=traces, layout=layout)\n",
    "py.iplot(fig, layout=layout)"
   ]
  },
  {
   "cell_type": "code",
   "execution_count": 3,
   "metadata": {
    "collapsed": true
   },
   "outputs": [],
   "source": [
    "def load_envy_free_data(filename):\n",
    "    data=[]\n",
    "    with open(filename, 'r') as f:\n",
    "        for line in f.readlines():\n",
    "            line = line.strip()\n",
    "            if len(line) > 0 and not line[0] == '#':\n",
    "                line_data = line.split(' | ')\n",
    "                line_data[0] = len(line_data[0].strip(' ;').split(';'))\n",
    "                line_data[1] = int(line_data[1])\n",
    "                line_data[2] = int(line_data[2])\n",
    "                line_data[3] = int(line_data[3])\n",
    "                data.append(line_data)\n",
    "    return data"
   ]
  },
  {
   "cell_type": "code",
   "execution_count": 14,
   "metadata": {},
   "outputs": [
    {
     "name": "stdout",
     "output_type": "stream",
     "text": [
      "[ 9  9 12 12  9  9  9 12 16  9  9  9 24 12 12 12  9 21 24  9 12  9 12  9 12\n",
      "  9  9 12 12 21 21 12 12  9 12 12  9 24 24  9 21 12 12  9  9 24 12  9 21  9\n",
      " 12 12  9 12  9 12  9  9  9 16 16  9 12 12  9  9 12  9 12  9 12 12  9  9  9\n",
      "  9 24 12  9 24 12  9  9  9 12  9 12 21  9 12  9 24  9  9  9 16  9 12 21 24]\n",
      "[52 57 53 32 16 26 85 19 48 85 43 19 16 31 43 16 47 19 16 16 19 51 16 16 51\n",
      " 53 51 56 16 48 24 58 26 28 36 48 61 45 57 24 29 43 49 26 24 23 36 58 29 45\n",
      " 48 49 37 27 16 23 25 49 57 48 28 29 16 19 48 29 43 31 16 51 30 24 27 24 16\n",
      " 51 56 63 47 52 43 48 32 16 40 16 71 30 25 28 56 44 72 67 27 16 48 60 29 31]\n",
      "[109 120  25  55 113 117  28  40  54  92  60 158 131  41  48 135  25  28\n",
      " 111  92 101 100  94 114 189  66 124  88  54  25  38 200 168  57  50 107\n",
      "  42 114  97 213 137  95  99  99 167 110  96 142  75  51  56 119 101 136\n",
      " 167 126 116  25 124  25  89  28 147  33 231  40 123 194  43 104  40 131\n",
      " 124 109 124 124 174 108  78 102 109  40 124 155 160  84 109  71  59  25\n",
      "  45 122  25  25  60  95  94  51  88  33]\n",
      "[302 246 480 212 281 626 288 248 286 348  80 230  44 326 277 505 306 374\n",
      " 312 393 285 287 114 462 286 303 207 224 278 307 349 457 268 261 235 307\n",
      " 201 144 442 176 358 188  59 232 214 201 214 392  70 388 245 234 488 266\n",
      " 314 197 224 199 215 167 168 381 235 228 403 254 360 105  60 201 360 282\n",
      " 106 277 162 275 273 209 365 488 242 202  39 314 345 273  91 395 434 221\n",
      " 473 307 330 268  80 198 414 279 248 231]\n",
      "[16 15 14 28 16 14 29 15 16 29 14 14 14 15 28 16 14 16 29 14 19 14 14 14 14\n",
      " 15 15 28 30 16 20 14 19 29 14 16 30 14 31 15 14 15 29 29 14 14 14 14 16 30\n",
      " 28 28 14 28 28 14 16 15 30 30 14 15 28 16 14 16 28 14 15 30 14 14 14 28 14\n",
      " 28 16 15 15 29 19 16 19 14 16 19 15 14 16 29 16 14 28 29 28 30 28 16 15 14\n",
      " 15 15 14 14 14 15 14 28 28 14 28]\n",
      "[ 86  75  84 112 106  73 106 106  84 106  71  81 106  84 108  71 106 108\n",
      "  86 110 106 106  84 106 106 106  88 108  84 106 106 106  81  84 106  86\n",
      "  71  71  71  75 110 106 108 112  84  75  86 106 106 106 106 106  75  84\n",
      " 106 106 106  71  84 106 106 106  73  75  71  86 106  71 106  90 106  84\n",
      " 106  86  75  73  84  71 106 106  86 106 106 106 106 108  79 114  84  71\n",
      "  75 106 106  86 108 106 106  77 106 106]\n",
      "[378 452 343 294 337 363 374 369 421 341 421 354 346 330 374 421 421 406\n",
      " 334 288 288 350 288 421 372 411 434 372 365 421 346 288 342 419 336 337\n",
      " 372 337 334 367 421 337 364 350 372 372 348 419 341 374 337 301 417 337\n",
      " 372 350 372 356 337 341 350 334 427 337 343 337 434 341 372 345 372 421\n",
      " 350 288 332 337 290 338 372 347 272 352 421 337 341 348 421 350 420 372\n",
      " 354 350 350 288 356 352 372 419 337 411]\n",
      "[1549 1081 1275 1458 1647 1449 1777 1741 1258 1291 1260 1513 1554 1258 1444\n",
      " 1544 1556 1725 1641 1402 1599 1565 1464 1447 1724 1346 1835 1598 1528 1410\n",
      " 1230 1450 1557 1635 1456 1431 1429 1577 1774 1501 1459 1576 1585 1305 1615\n",
      " 1521 1460 1394 1297 1450 1292 1367 1407 1256 1413 1562 1634 1597 1555 1443\n",
      " 1333 1443 1552 1454 1374 1374 1411 1456 1280 1460 1718 1554 1464 1498 1573\n",
      " 1512 1377 1564 1525 1559 1411 1517 1148 1399 1449 1609 1348 1757 1493 1398\n",
      " 1803 1470 1452 1442 1341 1586 1597 1456 1520 1327]\n"
     ]
    }
   ],
   "source": [
    "import plotly.plotly as py\n",
    "import plotly.graph_objs as go\n",
    "\n",
    "import numpy as np\n",
    "sample_sets = [load_envy_free_data('data_envy_free_core.out'), load_envy_free_data('data_envy_free_waste_makes_haste.out')]\n",
    "#raw_data_envy_free_core = load_data('data_envy_free_core.out')\n",
    "#raw_data_envy_free_waste = load_data('data_envy_free_waste_makes_haste.out')\n",
    "data_pair = [{},{}]\n",
    "for w,s in enumerate(sample_sets):\n",
    "    for i in range(3,7):\n",
    "        filtered_data = filter(lambda x: x[0]==i, s)\n",
    "        #print(list(filtered_data))\n",
    "        data_pair[w][i] = np.array([d[-2]+d[-1] for d in filtered_data])\n",
    "        print(data_pair[w][i])"
   ]
  },
  {
   "cell_type": "code",
   "execution_count": 20,
   "metadata": {},
   "outputs": [
    {
     "data": {
      "text/html": [
       "<iframe id=\"igraph\" scrolling=\"no\" style=\"border:none;\" seamless=\"seamless\" src=\"https://plot.ly/~kenanbit/123.embed\" height=\"800px\" width=\"1100px\"></iframe>"
      ],
      "text/plain": [
       "<plotly.tools.PlotlyDisplay object>"
      ]
     },
     "execution_count": 20,
     "metadata": {},
     "output_type": "execute_result"
    }
   ],
   "source": [
    "import plotly.plotly as py\n",
    "import plotly.graph_objs as go\n",
    "\n",
    "import numpy as np\n",
    "\n",
    "traces = []\n",
    "x = ['Core 1', 'Core 2', 'Core 3', 'Core 4', 'Core 5', 'Core 6',\n",
    "     'Waste 1', 'Waste 2', 'Waste 3', 'Waste 4', 'Waste 5', 'Waste 6',]\n",
    "\n",
    "color = '#3D9970'\n",
    "for data in data_pair:\n",
    "    for k in range(3,7):\n",
    "        traces.append( go.Box(\n",
    "            y=data[k],\n",
    "            name=str(k)+' Agents',\n",
    "            marker={'color':color}\n",
    "        ))\n",
    "    color = '#AA4466'\n",
    "\n",
    "\n",
    "labels = list(range(10,90,10)) + list(range(100,900,100)) + list(range(1000,9000,1000)) + list(range(10000,90000,10000))\n",
    "layout = go.Layout(\n",
    "    title='Number of queries in Dubious allocations using Core and WMH for N agents',\n",
    "    yaxis=dict(\n",
    "        type='log',\n",
    "        autorange=True,\n",
    "        ticktext=labels,\n",
    "        tickvals=labels,\n",
    "        tickfont=dict(\n",
    "            family='Courier New, monospace',\n",
    "            size=9.5,\n",
    "            color='#000000'\n",
    "        )\n",
    "    ),\n",
    "    autosize=False,\n",
    "    width=1100,\n",
    "    height=800,\n",
    "    showlegend=False,\n",
    "    boxmode='group',\n",
    "    \n",
    ")\n",
    "\n",
    "fig = go.Figure(data=traces, layout=layout)\n",
    "py.iplot(fig, layout=layout)"
   ]
  },
  {
   "cell_type": "code",
   "execution_count": null,
   "metadata": {
    "collapsed": true
   },
   "outputs": [],
   "source": []
  }
 ],
 "metadata": {
  "kernelspec": {
   "display_name": "Python 3",
   "language": "python",
   "name": "python3"
  },
  "language_info": {
   "codemirror_mode": {
    "name": "ipython",
    "version": 3
   },
   "file_extension": ".py",
   "mimetype": "text/x-python",
   "name": "python",
   "nbconvert_exporter": "python",
   "pygments_lexer": "ipython3",
   "version": "3.6.1"
  }
 },
 "nbformat": 4,
 "nbformat_minor": 2
}
