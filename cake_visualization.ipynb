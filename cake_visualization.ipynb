{
 "cells": [
  {
   "cell_type": "code",
   "execution_count": 1,
   "metadata": {
    "collapsed": true
   },
   "outputs": [],
   "source": [
    "from IPython.display import Image, display\n",
    "from PIL import Image, ImageDraw, ImageFont\n",
    "import PIL\n",
    "from classes import *\n",
    "from test_classes import *\n",
    "import random\n",
    "from core import *"
   ]
  },
  {
   "cell_type": "code",
   "execution_count": 2,
   "metadata": {},
   "outputs": [
    {
     "data": {
      "image/png": "[encoded data removed]",
      "text/plain": [
       "<PIL.Image.Image image mode=RGBA size=500x100 at 0xB0E2EA4C>"
      ]
     },
     "metadata": {},
     "output_type": "display_data"
    }
   ],
   "source": [
    "im = Image.new('RGBA', (500,100), color='black')\n",
    "draw = ImageDraw.Draw(im)\n",
    "\n",
    "fnt = ImageFont.truetype('Pillow/Tests/fonts/FreeMono.ttf', 40)\n",
    "\n",
    "draw.line((0, 0) + im.size, fill='blue')\n",
    "draw.line((0, im.size[1], im.size[0], 0), fill='red')\n",
    "draw.text((200,30), \"Hello\", font=fnt, fill=(255,255,255,0))\n",
    "draw.rectangle((80,80,20,20), fill='white')\n",
    "del draw\n",
    "\n",
    "# write to stdout\n",
    "display(im)"
   ]
  },
  {
   "cell_type": "code",
   "execution_count": 39,
   "metadata": {},
   "outputs": [],
   "source": [
    "fnt = ImageFont.truetype('FreeMonoBold.ttf', 12)\n",
    "def draw_pieces(pieces, perspective=None, width=800, height=30):\n",
    "    im = Image.new('RGB', (width, height), color='white')\n",
    "    d = ImageDraw.Draw(im)\n",
    "    '''\n",
    "    translates an absolute cake coordinate into a screen coordinate, and also through the perspective of\n",
    "    an agent's value function if that is specified\n",
    "    '''\n",
    "    def xcoord(x):\n",
    "        if perspective==None:\n",
    "            return x*width\n",
    "        else:\n",
    "            return perspective.value_up_to(x) * width\n",
    "    for p in pieces:\n",
    "        \n",
    "        t = p.get_rightmost_trim()\n",
    "        if t != None:\n",
    "            left = xcoord( p.intervals[0].left )\n",
    "            #TODO better do something about this if there are multiple\n",
    "            right = xcoord( t.x )\n",
    "            d.rectangle((left,1,right-1,height-2), fill=(250,200,210), outline=(200,150,150))\n",
    "        \n",
    "        #draw outlines of piece\n",
    "        #draw divisions of piece\n",
    "        for interval in p.intervals:\n",
    "            left = xcoord( interval.left )\n",
    "            right= xcoord( interval.right )\n",
    "            d.rectangle((left,1,right-1,height-2), outline='black')\n",
    "            if p.allocated != None:\n",
    "                d.text((right - 40, 0 + 3), str(p.allocated)[6:], fill='black', font=fnt)\n",
    "    display(im)\n",
    "    \n",
    "def draw_preferences(agent, width=800, height=60):\n",
    "    im = Image.new('RGB', (width, height), color='white')\n",
    "    d = ImageDraw.Draw(im)\n",
    "    highest = max([agent.adv[k] for k in agent.adv])\n",
    "    height_factor = height / highest\n",
    "    bar_width = width / len(agent.adv)\n",
    "    x=0\n",
    "    for k in agent.adv:\n",
    "        d.rectangle((x, \n",
    "                     height - agent.adv[k]*height_factor,\n",
    "                     x+bar_width,\n",
    "                     height), fill=(180,200,245), outline='blue')\n",
    "        x += bar_width\n",
    "    d.text((3, 3), str(agent)[6:] + ' preferences', fill='black', font=fnt)\n",
    "    display(im)\n",
    "    "
   ]
  },
  {
   "cell_type": "code",
   "execution_count": 8,
   "metadata": {},
   "outputs": [],
   "source": [
    "agents = [Agent(random.randint(5,23)) for i in range(5)]\n",
    "cake = Cake()\n",
    "pieces = core(agents[0], agents, cake.pieces[0])"
   ]
  },
  {
   "cell_type": "code",
   "execution_count": 40,
   "metadata": {},
   "outputs": [
    {
     "data": {
      "image/png": "[encoded data removed]",
      "text/plain": [
       "<PIL.Image.Image image mode=RGB size=800x50 at 0xB0DF4A2C>"
      ]
     },
     "metadata": {},
     "output_type": "display_data"
    },
    {
     "data": {
      "image/png": "[encoded data removed]",
      "text/plain": [
       "<PIL.Image.Image image mode=RGB size=800x60 at 0xB0DF4FEC>"
      ]
     },
     "metadata": {},
     "output_type": "display_data"
    },
    {
     "data": {
      "image/png": "[encoded data removed]",
      "text/plain": [
       "<PIL.Image.Image image mode=RGB size=800x30 at 0xB0DF4A0C>"
      ]
     },
     "metadata": {},
     "output_type": "display_data"
    },
    {
     "data": {
      "image/png": "[encoded data removed]",
      "text/plain": [
       "<PIL.Image.Image image mode=RGB size=800x60 at 0xB0DF4C6C>"
      ]
     },
     "metadata": {},
     "output_type": "display_data"
    },
    {
     "data": {
      "image/png": "[encoded data removed]",
      "text/plain": [
       "<PIL.Image.Image image mode=RGB size=800x30 at 0xB0DF492C>"
      ]
     },
     "metadata": {},
     "output_type": "display_data"
    },
    {
     "data": {
      "image/png": "[encoded data removed]",
      "text/plain": [
       "<PIL.Image.Image image mode=RGB size=800x60 at 0xB0DF464C>"
      ]
     },
     "metadata": {},
     "output_type": "display_data"
    },
    {
     "data": {
      "image/png": "[encoded data removed]",
      "text/plain": [
       "<PIL.Image.Image image mode=RGB size=800x30 at 0xB0DF4A8C>"
      ]
     },
     "metadata": {},
     "output_type": "display_data"
    },
    {
     "data": {
      "image/png": "[encoded data removed]",
      "text/plain": [
       "<PIL.Image.Image image mode=RGB size=800x60 at 0xB0DF4E0C>"
      ]
     },
     "metadata": {},
     "output_type": "display_data"
    },
    {
     "data": {
      "image/png": "[encoded data removed]",
      "text/plain": [
       "<PIL.Image.Image image mode=RGB size=800x30 at 0xB0DF492C>"
      ]
     },
     "metadata": {},
     "output_type": "display_data"
    },
    {
     "data": {
      "image/png": "[encoded data removed]",
      "text/plain": [
       "<PIL.Image.Image image mode=RGB size=800x60 at 0xB0DF4FAC>"
      ]
     },
     "metadata": {},
     "output_type": "display_data"
    },
    {
     "data": {
      "image/png": "[encoded data removed]",
      "text/plain": [
       "<PIL.Image.Image image mode=RGB size=800x30 at 0xB0DF4F0C>"
      ]
     },
     "metadata": {},
     "output_type": "display_data"
    }
   ],
   "source": [
    "draw_pieces(pieces, height=50)\n",
    "for a in agents:\n",
    "    draw_preferences(a)\n",
    "    draw_pieces(pieces, perspective=a)"
   ]
  },
  {
   "cell_type": "code",
   "execution_count": null,
   "metadata": {
    "collapsed": true
   },
   "outputs": [],
   "source": []
  }
 ],
 "metadata": {
  "kernelspec": {
   "display_name": "Python 3",
   "language": "python",
   "name": "python3"
  },
  "language_info": {
   "codemirror_mode": {
    "name": "ipython",
    "version": 3
   },
   "file_extension": ".py",
   "mimetype": "text/x-python",
   "name": "python",
   "nbconvert_exporter": "python",
   "pygments_lexer": "ipython3",
   "version": "3.6.1"
  }
 },
 "nbformat": 4,
 "nbformat_minor": 2
}
