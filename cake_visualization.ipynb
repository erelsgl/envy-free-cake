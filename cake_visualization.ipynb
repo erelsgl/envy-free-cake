{
 "cells": [
  {
   "cell_type": "code",
   "execution_count": 1,
   "metadata": {
    "collapsed": true
   },
   "outputs": [],
   "source": [
    "from IPython.display import Image, display\n",
    "from PIL import Image, ImageDraw, ImageFont\n",
    "import PIL\n",
    "from classes import *\n",
    "from test_classes import *\n",
    "import random\n",
    "from core import *"
   ]
  },
  {
   "cell_type": "code",
   "execution_count": 2,
   "metadata": {
    "collapsed": true
   },
   "outputs": [],
   "source": [
    "fnt_pref = ImageFont.truetype('FreeMonoBold.ttf', 13)\n",
    "fnt_piece = ImageFont.truetype('FreeMonoBold.ttf', 22)\n",
    "\n",
    "def draw_pieces(pieces, perspective=None, with_text=True, startx=0, starty=0, width=900, height=30, draw_object=None):\n",
    "    if draw_object == None:\n",
    "        im = Image.new('RGB', (width, height), color='white')\n",
    "        d = ImageDraw.Draw(im)\n",
    "    else:\n",
    "        d = draw_object\n",
    "    background = (210,210,210)\n",
    "    #Set image background\n",
    "    d.rectangle((startx, starty, startx+width-1, starty+height-1), fill=background)\n",
    "    \n",
    "    '''\n",
    "    translates an absolute cake coordinate into a screen coordinate, and also through the perspective of\n",
    "    an agent's value function if that is specified\n",
    "    '''\n",
    "    def xcoord(x):\n",
    "        if perspective==None:\n",
    "            return startx + x*width\n",
    "        else:\n",
    "            return perspective.value_up_to(x) * width\n",
    "    for p in pieces[::-1]:\n",
    "        \n",
    "        #draw background of pieces, and label\n",
    "        for interval in p.intervals:\n",
    "            left = xcoord( interval.left )\n",
    "            right= xcoord( interval.right )\n",
    "            d.rectangle((left,starty+1,right-1,starty+height-2), outline='black', fill=background)\n",
    "            if p.allocated != None and with_text:\n",
    "                if p.allocated.color:\n",
    "                    d.text((right - 20, starty+ 3), str(p.allocated), fill='white', font=fnt_piece)\n",
    "                    d.text((right - 19, starty+ 4), str(p.allocated), fill=p.allocated.color, font=fnt_piece)\n",
    "                else:\n",
    "                    d.text((right - 20, starty+ 3), str(p.allocated), fill='black', font=fnt_piece)\n",
    "        \n",
    "        # draw trims on pieces\n",
    "        # TODO doesn't work with disjoint interval pieces\n",
    "        t = p.get_rightmost_trim()\n",
    "        if t != None:\n",
    "            left = xcoord( p.intervals[0].left )\n",
    "            #TODO better do something about this if there are multiple\n",
    "            right = xcoord( t.x )\n",
    "            if t.owner.color != None:\n",
    "                d.rectangle((left,starty+1,right-1,starty + height-2), fill=(200,170,170))\n",
    "                d.rectangle((right-2,starty+1, right, starty + height-2), fill=t.owner.color, outline=None)\n",
    "            else:\n",
    "                d.rectangle((left,starty+1,right-1,starty + height-2), fill=(200,170,170), outline=(200,100,100))\n",
    "                \n",
    "        #redraw outline, in case something went a bit outside\n",
    "        for p in pieces[::-1]:\n",
    "            for interval in p.intervals:\n",
    "                left = xcoord( interval.left )\n",
    "                right= xcoord( interval.right )\n",
    "                d.rectangle((left,starty+1,right-1,starty+height-2), outline='black')\n",
    "        \n",
    "    if draw_object==None:\n",
    "        display(im)\n",
    "    \n",
    "def draw_preferences(agent, with_pieces=None, width=900, height=80, pieces_height=12):\n",
    "    \n",
    "    im = Image.new('RGB', (width, height), color='white')\n",
    "    d = ImageDraw.Draw(im)\n",
    "    highest = max([agent.adv[k] for k in agent.adv])\n",
    "    height_factor = (height-pieces_height) / highest\n",
    "    bar_width = width / len(agent.adv)\n",
    "    x=0\n",
    "    if agent.color:\n",
    "        fill_color = agent.color\n",
    "    else:\n",
    "        fill_color = (130,130,130)\n",
    "    for k in agent.adv:\n",
    "        d.rectangle((x, \n",
    "                     height - agent.adv[k]*height_factor,\n",
    "                     x+bar_width,\n",
    "                     height), \n",
    "                    fill=fill_color, \n",
    "                    outline='black')\n",
    "        x += bar_width\n",
    "    if agent.color:\n",
    "        d.text((2, 2), str(agent), fill='black', font=fnt_piece)\n",
    "        d.text((4, 4), str(agent), fill='white', font=fnt_piece)\n",
    "        d.text((3, 3), str(agent), fill=agent.color, font=fnt_piece)\n",
    "    else:\n",
    "        d.text((3, 3), str(agent), fill='black', font=fnt_piece)\n",
    "    #d.text((3, 3), str(agent) + ' preferences', fill='black', font=fnt_pref)\n",
    "    if with_pieces != None:\n",
    "        draw_pieces(with_pieces, with_text=False, startx=0, starty=height-pieces_height, width=width, height=pieces_height, draw_object=d)\n",
    "    \n",
    "    display(im)\n",
    "    "
   ]
  },
  {
   "cell_type": "code",
   "execution_count": 63,
   "metadata": {},
   "outputs": [],
   "source": [
    "agents = [Agent(random.randint(5,10)) for i in range(5)]\n",
    "cake = Cake()\n",
    "pieces = core(agents[0], agents, cake.pieces[0])"
   ]
  },
  {
   "cell_type": "code",
   "execution_count": 68,
   "metadata": {
    "scrolled": false
   },
   "outputs": [
    {
     "data": {
      "image/png": "[encoded data removed]",
      "text/plain": [
       "<PIL.Image.Image image mode=RGB size=900x50 at 0xB0CD5CCC>"
      ]
     },
     "metadata": {},
     "output_type": "display_data"
    },
    {
     "data": {
      "image/png": "[encoded data removed]",
      "text/plain": [
       "<PIL.Image.Image image mode=RGB size=900x30 at 0xB0CD5DCC>"
      ]
     },
     "metadata": {},
     "output_type": "display_data"
    },
    {
     "data": {
      "image/png": "[encoded data removed]",
      "text/plain": [
       "<PIL.Image.Image image mode=RGB size=900x30 at 0xB0CD5ECC>"
      ]
     },
     "metadata": {},
     "output_type": "display_data"
    },
    {
     "data": {
      "image/png": "[encoded data removed]",
      "text/plain": [
       "<PIL.Image.Image image mode=RGB size=900x30 at 0xB0CD5A6C>"
      ]
     },
     "metadata": {},
     "output_type": "display_data"
    },
    {
     "data": {
      "image/png": "[encoded data removed]",
      "text/plain": [
       "<PIL.Image.Image image mode=RGB size=900x30 at 0xB0CD5F4C>"
      ]
     },
     "metadata": {},
     "output_type": "display_data"
    },
    {
     "data": {
      "image/png": "[encoded data removed]",
      "text/plain": [
       "<PIL.Image.Image image mode=RGB size=900x30 at 0xB0CD55EC>"
      ]
     },
     "metadata": {},
     "output_type": "display_data"
    }
   ],
   "source": [
    "def visualize_1(pieces, agents, colors=['red', 'green', 'blue', 'orange', 'purple', 'magenta', 'cyan']):\n",
    "    #Assign agents names and colors\n",
    "    for i in range(len(agents)):\n",
    "        agents[i].name = str(i+1)\n",
    "        agents[i].color = colors[i]\n",
    "    #Draw the main cake\n",
    "    draw_pieces(pieces, height=50)\n",
    "    #Draw agent preferences and their perception of the cake\n",
    "    for a in agents:\n",
    "        #draw_preferences(a, with_pieces=pieces)\n",
    "        draw_pieces(pieces, perspective=a)\n",
    "        \n",
    "visualize_1(pieces, agents)"
   ]
  },
  {
   "cell_type": "code",
   "execution_count": 65,
   "metadata": {},
   "outputs": [
    {
     "data": {
      "image/png": "[encoded data removed]",
      "text/plain": [
       "<PIL.Image.Image image mode=RGB size=900x200 at 0xB0BB796C>"
      ]
     },
     "metadata": {},
     "output_type": "display_data"
    }
   ],
   "source": [
    "'''\n",
    "This one places above each piece:\n",
    "    The value that the owner of this piece places on all other pieces, in spacial order\n",
    "'''\n",
    "\n",
    "def draw_pieces_with_valuations1(pieces, width=900, height=200, pieces_height=12, colors=['red', 'green', 'blue', 'orange', 'purple', 'magenta', 'cyan']):\n",
    "    im = Image.new('RGB', (width, height), color='white')\n",
    "    d = ImageDraw.Draw(im)\n",
    "    pieces_height = 30\n",
    "    bar_width = 6\n",
    "    bar_max_height = height - pieces_height\n",
    "    separator = 4\n",
    "    \n",
    "    def xcoord(x):\n",
    "        return x*width\n",
    "    \n",
    "    for i in range(len(pieces)):\n",
    "        p = pieces[i]\n",
    "        if (p.allocated):\n",
    "                \n",
    "            right = xcoord(p.intervals[-1].right)\n",
    "            start_at = right - 3 - (len(pieces)*bar_width + 2*separator)\n",
    "            \n",
    "            current = start_at\n",
    "            for i2 in range(len(pieces)):\n",
    "                p2 = pieces[i2]\n",
    "                whole_bar_height  = p.allocated.get_value(p2, count=False, whole_piece=True)  * bar_max_height * 2\n",
    "                trimmed_bar_height= p.allocated.get_value(p2, count=False, whole_piece=False) * bar_max_height * 2\n",
    "                if p2.allocated and p2.allocated.color:\n",
    "                    fill_color = p2.allocated.color\n",
    "                else:\n",
    "                    fill_color = (130,130,130)\n",
    "                d.rectangle((current, \n",
    "                             bar_max_height-trimmed_bar_height, \n",
    "                             current+bar_width, \n",
    "                             bar_max_height),\n",
    "                            fill=fill_color, outline='black'\n",
    "                           )\n",
    "                current += bar_width\n",
    "                if i2 == i or i2 == i-1:\n",
    "                    current += separator\n",
    "    \n",
    "    #Draw the pieces below\n",
    "    draw_pieces(pieces, \n",
    "                with_text=True, \n",
    "                startx=0, starty=height-pieces_height, \n",
    "                width=width, height=pieces_height, \n",
    "                draw_object=d)\n",
    "    display(im)\n",
    "    \n",
    "draw_pieces_with_valuations1(pieces)"
   ]
  },
  {
   "cell_type": "code",
   "execution_count": 66,
   "metadata": {},
   "outputs": [
    {
     "name": "stdout",
     "output_type": "stream",
     "text": [
      "[[17651966757776201/83107759319334795, 18600018681673513/53815613927434830]]\n",
      "[[18600018681673513/53815613927434830, 208426465454789519/385515036714337875]]\n",
      "[[47704224157178773/56226695413596075, 1]]\n"
     ]
    },
    {
     "data": {
      "image/png": "[encoded data removed]",
      "text/plain": [
       "<PIL.Image.Image image mode=RGB size=900x200 at 0xB0BBA1EC>"
      ]
     },
     "metadata": {},
     "output_type": "display_data"
    }
   ],
   "source": [
    "'''\n",
    "This one places above each piece:\n",
    "    The value that the lex. ordered agents place on the piece\n",
    "'''\n",
    "\n",
    "def draw_pieces_with_valuations2(pieces, agents, width=900, height=200, pieces_height=12, colors=['red', 'green', 'blue', 'orange', 'purple', 'magenta', 'cyan']):\n",
    "    im = Image.new('RGB', (width, height), color='white')\n",
    "    d = ImageDraw.Draw(im)\n",
    "    pieces_height = 30\n",
    "    bar_width = 6\n",
    "    bar_max_height = height - pieces_height\n",
    "    separator = 4\n",
    "    \n",
    "    def xcoord(x):\n",
    "        return x*width\n",
    "    \n",
    "    for i in range(len(pieces)):\n",
    "        \n",
    "        p = pieces[i]\n",
    "        if (p.allocated):\n",
    "            t = p.get_rightmost_trim()\n",
    "            if t:\n",
    "                start_at = xcoord(t.x)+3\n",
    "            else:\n",
    "                print(p.intervals)\n",
    "                start_at = xcoord(p.intervals[0].left) + 3\n",
    "            \n",
    "            current = start_at\n",
    "            for i2 in range(len(agents)):\n",
    "                a = agents[i2]\n",
    "                whole_bar_height  = a.get_value(p, count=False, whole_piece=True)  * bar_max_height * 2\n",
    "                trimmed_bar_height= a.get_value(p, count=False, whole_piece=False) * bar_max_height * 2\n",
    "                if p.allocated == a:\n",
    "                    current += separator\n",
    "                if a.color:\n",
    "                    fill_color = a.color\n",
    "                else:\n",
    "                    fill_color = (130,130,130)\n",
    "                d.rectangle((current, \n",
    "                             bar_max_height-trimmed_bar_height, \n",
    "                             current+bar_width, \n",
    "                             bar_max_height),\n",
    "                            fill=fill_color, outline='black'\n",
    "                           )\n",
    "                current += bar_width\n",
    "                if p.allocated == a:\n",
    "                    current += separator\n",
    "    \n",
    "    #Draw the pieces below\n",
    "    draw_pieces(pieces, \n",
    "                with_text=True, \n",
    "                startx=0, starty=height-pieces_height, \n",
    "                width=width, height=pieces_height, \n",
    "                draw_object=d)\n",
    "    display(im)\n",
    "    \n",
    "draw_pieces_with_valuations2(pieces, agents)"
   ]
  },
  {
   "cell_type": "code",
   "execution_count": 67,
   "metadata": {},
   "outputs": [
    {
     "data": {
      "image/png": "[encoded data removed]",
      "text/plain": [
       "<PIL.Image.Image image mode=RGB size=900x200 at 0xB0BC61EC>"
      ]
     },
     "metadata": {},
     "output_type": "display_data"
    }
   ],
   "source": [
    "'''\n",
    "This one places agent numbers, and valuations for each piece above the agent number\n",
    "'''\n",
    "\n",
    "def draw_agents_with_valuations(pieces, agents, width=900, height=200, pieces_height=12, colors=['red', 'green', 'blue', 'orange', 'purple', 'magenta', 'cyan']):\n",
    "    im = Image.new('RGB', (width, height), color='white')\n",
    "    d = ImageDraw.Draw(im)\n",
    "    bar_width = 6\n",
    "    separator = 4\n",
    "    max_bar_height = height - 30\n",
    "    \n",
    "    current = 3\n",
    "    for a in agents:\n",
    "        d.text((current,   height-20), str(a), fill='black', font=fnt_piece)\n",
    "        d.text((current+2, height-18), str(a), fill='white', font=fnt_piece)\n",
    "        d.text((current+1, height-19), str(a), fill=a.color, font=fnt_piece)\n",
    "        for p in pieces:\n",
    "            \n",
    "            if p.allocated == a:\n",
    "                current += separator\n",
    "                \n",
    "            if p.allocated and p.allocated.color:\n",
    "                fill_color = p.allocated.color\n",
    "            else:\n",
    "                fill_color = (130,130,130)\n",
    "\n",
    "            whole_bar_height  = a.get_value(p, count=False, whole_piece=True)  * max_bar_height * 2\n",
    "            trimmed_bar_height= a.get_value(p, count=False, whole_piece=False) * max_bar_height * 2\n",
    "\n",
    "            d.rectangle((current, \n",
    "                         max_bar_height-trimmed_bar_height, \n",
    "                         current+bar_width, \n",
    "                         max_bar_height),\n",
    "                        fill=fill_color, outline='black'\n",
    "                       )\n",
    "            current += bar_width\n",
    "            if p.allocated == a:\n",
    "                current += separator\n",
    "        current += 20\n",
    "    display(im)\n",
    "    \n",
    "draw_agents_with_valuations(pieces, agents)"
   ]
  },
  {
   "cell_type": "code",
   "execution_count": null,
   "metadata": {
    "collapsed": true
   },
   "outputs": [],
   "source": []
  }
 ],
 "metadata": {
  "kernelspec": {
   "display_name": "Python 3",
   "language": "python",
   "name": "python3"
  },
  "language_info": {
   "codemirror_mode": {
    "name": "ipython",
    "version": 3
   },
   "file_extension": ".py",
   "mimetype": "text/x-python",
   "name": "python",
   "nbconvert_exporter": "python",
   "pygments_lexer": "ipython3",
   "version": "3.6.1"
  }
 },
 "nbformat": 4,
 "nbformat_minor": 2
}
